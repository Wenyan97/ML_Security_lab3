{
 "cells": [
  {
   "cell_type": "code",
   "execution_count": 1,
   "metadata": {},
   "outputs": [],
   "source": [
    "import numpy as np\n",
    "import random\n",
    "import h5py\n",
    "import sys\n",
    "import tensorflow as tf\n",
    "import os\n",
    "import matplotlib.pyplot as plt\n",
    "from tensorflow import keras\n",
    "from decimal import Decimal\n",
    "from sklearn.model_selection import train_test_split\n",
    "from keras.models import load_model\n",
    "from keras.preprocessing.image import ImageDataGenerator\n",
    "from keras.preprocessing import image\n",
    "from keras.layers import UpSampling2D, Cropping2D\n",
    "from keras import models\n",
    "from sklearn.metrics import accuracy_score"
   ]
  },
  {
   "cell_type": "code",
   "execution_count": null,
   "metadata": {},
   "outputs": [],
   "source": [
    "# download file in lab3\n",
    "!gdown --id 1kxNACo0qFo8QdZgtGHvaA67p4h4RcNIy\n",
    "!gdown --id 1HpahIi-RcvtaRoly_TbuoBzWUaAjVDgt\n",
    "!gdown --id 1nbB5tyUVClSaFvvg3hrFW4wOUj3GtNTf\n",
    "!gdown --id 1nbB5tyUVClSaFvvg3hrFW4wOUj3GtNTf"
   ]
  },
  {
   "cell_type": "code",
   "execution_count": null,
   "metadata": {},
   "outputs": [],
   "source": [
    "!git clone https://github.com/csaw-hackml/CSAW-HackML-2020"
   ]
  },
  {
   "cell_type": "code",
   "execution_count": 2,
   "metadata": {},
   "outputs": [],
   "source": [
    "clean_validation_data_filepath = \"./content/valid.h5\"\n",
    "clean_test_data_filepath = \"./content/test.h5\"\n",
    "bd_test_data_filepath = \"./content/bd_test.h5\"\n",
    "# load data function\n",
    "def data_loader(filepath):\n",
    "  data = h5py.File(filepath, 'r')\n",
    "  x_data = np.array(data['data'])\n",
    "  y_data = np.array(data['label'])\n",
    "  x_data = x_data.transpose((0,2,3,1))\n",
    "  return x_data, y_data\n",
    "\n",
    "# load data\n",
    "x_clean_valid, y_clean_valid = data_loader(clean_validation_data_filepath)\n",
    "x_clean_test, y_clean_test = data_loader(clean_test_data_filepath)\n",
    "x_bd_test, y_bd_test = data_loader(bd_test_data_filepath)\n",
    "\n",
    "# each class has a different int number index, get the biggest class's number\n",
    "biggest_class_value = int(y_clean_valid.max())"
   ]
  },
  {
   "cell_type": "code",
   "execution_count": 3,
   "metadata": {},
   "outputs": [
    {
     "name": "stdout",
     "output_type": "stream",
     "text": [
      "Model: \"model_1\"\n",
      "__________________________________________________________________________________________________\n",
      " Layer (type)                   Output Shape         Param #     Connected to                     \n",
      "==================================================================================================\n",
      " input (InputLayer)             [(None, 55, 47, 3)]  0           []                               \n",
      "                                                                                                  \n",
      " conv_1 (Conv2D)                (None, 52, 44, 20)   980         ['input[0][0]']                  \n",
      "                                                                                                  \n",
      " pool_1 (MaxPooling2D)          (None, 26, 22, 20)   0           ['conv_1[0][0]']                 \n",
      "                                                                                                  \n",
      " conv_2 (Conv2D)                (None, 24, 20, 40)   7240        ['pool_1[0][0]']                 \n",
      "                                                                                                  \n",
      " pool_2 (MaxPooling2D)          (None, 12, 10, 40)   0           ['conv_2[0][0]']                 \n",
      "                                                                                                  \n",
      " conv_3 (Conv2D)                (None, 10, 8, 60)    21660       ['pool_2[0][0]']                 \n",
      "                                                                                                  \n",
      " pool_3 (MaxPooling2D)          (None, 5, 4, 60)     0           ['conv_3[0][0]']                 \n",
      "                                                                                                  \n",
      " conv_4 (Conv2D)                (None, 4, 3, 80)     19280       ['pool_3[0][0]']                 \n",
      "                                                                                                  \n",
      " flatten_1 (Flatten)            (None, 1200)         0           ['pool_3[0][0]']                 \n",
      "                                                                                                  \n",
      " flatten_2 (Flatten)            (None, 960)          0           ['conv_4[0][0]']                 \n",
      "                                                                                                  \n",
      " fc_1 (Dense)                   (None, 160)          192160      ['flatten_1[0][0]']              \n",
      "                                                                                                  \n",
      " fc_2 (Dense)                   (None, 160)          153760      ['flatten_2[0][0]']              \n",
      "                                                                                                  \n",
      " add_1 (Add)                    (None, 160)          0           ['fc_1[0][0]',                   \n",
      "                                                                  'fc_2[0][0]']                   \n",
      "                                                                                                  \n",
      " activation_1 (Activation)      (None, 160)          0           ['add_1[0][0]']                  \n",
      "                                                                                                  \n",
      " output (Dense)                 (None, 1283)         206563      ['activation_1[0][0]']           \n",
      "                                                                                                  \n",
      "==================================================================================================\n",
      "Total params: 601,643\n",
      "Trainable params: 601,643\n",
      "Non-trainable params: 0\n",
      "__________________________________________________________________________________________________\n"
     ]
    },
    {
     "name": "stderr",
     "output_type": "stream",
     "text": [
      "2021-12-16 20:29:51.570693: I tensorflow/core/platform/cpu_feature_guard.cc:151] This TensorFlow binary is optimized with oneAPI Deep Neural Network Library (oneDNN) to use the following CPU instructions in performance-critical operations:  AVX2 FMA\n",
      "To enable them in other operations, rebuild TensorFlow with the appropriate compiler flags.\n"
     ]
    }
   ],
   "source": [
    "# load model \n",
    "model_filepath = \"./CSAW-HackML-2020/lab3/models/bd_net.h5\"\n",
    "bd_model = keras.models.load_model(model_filepath)\n",
    "bd_model.summary()"
   ]
  },
  {
   "cell_type": "code",
   "execution_count": 6,
   "metadata": {},
   "outputs": [
    {
     "name": "stdout",
     "output_type": "stream",
     "text": [
      "98.62042088854248\n"
     ]
    }
   ],
   "source": [
    "# get original accuracy\n",
    "# predict on clean test data\n",
    "pre_y = np.argmax(bd_model.predict(x_clean_test), axis=1)\n",
    "original_acc = accuracy_score(pre_y, y_clean_test) *100\n",
    "print(original_acc)"
   ]
  },
  {
   "cell_type": "code",
   "execution_count": 19,
   "metadata": {},
   "outputs": [
    {
     "name": "stdout",
     "output_type": "stream",
     "text": [
      "fraction is  0.5333333333333333 Clean Classification ac 98.61262665627436\n",
      "Attack Success Rate: 100.0\n",
      "fraction is  0.5666666666666667 Clean Classification ac 98.60483242400623\n",
      "Attack Success Rate: 100.0\n",
      "fraction is  0.6 Clean Classification ac 98.58924395947\n",
      "Attack Success Rate: 100.0\n",
      "fraction is  0.6333333333333333 Clean Classification ac 98.57365549493376\n",
      "Attack Success Rate: 100.0\n",
      "fraction is  0.6666666666666666 Clean Classification ac 98.45674201091192\n",
      "Attack Success Rate: 100.0\n",
      "fraction is  0.7 Clean Classification ac 98.0826188620421\n",
      "Attack Success Rate: 100.0\n",
      "fraction is  0.7333333333333333 Clean Classification ac 97.54481683554171\n",
      "Attack Success Rate: 100.0\n",
      "fraction is  0.7666666666666667 Clean Classification ac 95.47155105222136\n",
      "Attack Success Rate: 99.97661730319564\n",
      "fraction is  0.8 Clean Classification ac 94.61418550272798\n",
      "Attack Success Rate: 99.97661730319564\n",
      "fraction is  0.8333333333333334 Clean Classification ac 92.34606391270461\n",
      "Attack Success Rate: 79.69602494154326\n",
      "fraction is  0.8666666666666667 Clean Classification ac 84.45830085736556\n",
      "Attack Success Rate: 76.1730319563523\n",
      "fraction is  0.9 Clean Classification ac 45.68978955572876\n",
      "Attack Success Rate: 15.416991426344506\n",
      "fraction is  0.9333333333333333 Clean Classification ac 14.403741231488699\n",
      "Attack Success Rate: 17.01480904130943\n",
      "fraction is  0.9666666666666667 Clean Classification ac 1.5666406858924398\n",
      "Attack Success Rate: 0.0\n",
      "fraction is  1.0 Clean Classification ac 0.0779423226812159\n",
      "Attack Success Rate: 0.0\n"
     ]
    }
   ],
   "source": [
    "# get a structure copy of bd_model -> gd_model\n",
    "gd_model = keras.models.clone_model(bd_model)\n",
    "# load weights of bd_model to gd_model\n",
    "gd_model.set_weights(bd_model.get_weights())\n",
    "\n",
    "# we need to drop one channel in conv_3 each time\n",
    "# get conv_3 layer in gd_model\n",
    "conv_3 = gd_model.get_layer('conv_3')\n",
    "# make conv_3 layer to individual intermediate model\n",
    "intermediate = keras.Model(inputs=gd_model.input, outputs=gd_model.get_layer('conv_3').output)\n",
    "# calculate the output(activation_values) of conv_3\n",
    "activation_values = intermediate.predict(x_clean_valid).sum(axis=(0,1,2))\n",
    "# get channel sort index according to the activation_values, delete the channel(from smallest activation_values to largest)\n",
    "delete_channels_sort = np.argsort(activation_values)\n",
    "\n",
    "channels = []\n",
    "acc_list = []\n",
    "count = 0\n",
    "asr_list = []\n",
    "three_drops_list = []\n",
    "x_2, x_4, x_10 = 0, 0, 0\n",
    "\n",
    "# delete channel one by one\n",
    "# delete channel means set the channel's weights to zero\n",
    "for i in range(len(delete_channels_sort)):\n",
    "    count+=1\n",
    "    if i % 2 == 0:# prevent RAM overflow, skip two at once\n",
    "        new_channel = np.array(conv_3.get_weights()[0])\n",
    "        new_channel[:, :, :, delete_channels_sort[i]] = np.zeros((3, 3, 40))\n",
    "        conv_3.set_weights(list([new_channel, conv_3.get_weights()[1]]))\n",
    "        continue\n",
    "    # if the activation_values is too small(close to 0, no need to reset), skip it\n",
    "    if activation_values[delete_channels_sort[i]] < 1e-3:\n",
    "        continue\n",
    "    # get conv_3 layer all channel's conv kernal parameters\n",
    "    new_channel = np.array(conv_3.get_weights()[0])\n",
    "    # set conv kernal parameters to zero according to delete_channels_sort's order\n",
    "    new_channel[:, :, :, delete_channels_sort[i]] = np.zeros((3, 3, 40))\n",
    "    # set modified conv_3 layer's weights\n",
    "    # conv kernal parameters=new_channel(i.e. 0), bias=conv_3.get_weights()[1]\n",
    "    conv_3.set_weights(list([new_channel, conv_3.get_weights()[1]]))\n",
    "\n",
    "    # calculate bd_model(orign model) and gd_model's(conv_3 layer modified model) class acc on clean test set\n",
    "    pred_bd = np.argmax(bd_model.predict(x_clean_test), axis=1)\n",
    "    pred_gd = np.argmax(gd_model.predict(x_clean_test), axis=1)\n",
    "    # if pred_bd[i] = pred_gd[i], then the channel is not useful, \n",
    "    # keep output[i] the same as original model.\n",
    "    # if pred_bd[i] != pred_gd[i], then the channel is useful, \n",
    "    # make output[i] a wrong prediction(biggest class value+1)\n",
    "    output_y = np.full(len(pred_bd), biggest_class_value+1)\n",
    "    equal_mask = pred_bd == pred_gd\n",
    "    output_y[equal_mask] = pred_bd[equal_mask]\n",
    "    # fraction: how many channels have been modified\n",
    "    # clean_accuracy: accuracy of current gd_model on clean test set\n",
    "    # current gd_model means (modified channel fraction = count/(len(delete_channels_sort)))\n",
    "    clean_accuracy = np.mean(np.equal(output_y, y_clean_test))*100\n",
    "    print(\n",
    "        'fraction is ',count/(len(delete_channels_sort)),\n",
    "        'Clean Classification ac',clean_accuracy\n",
    "    )\n",
    "    channels.append(count/(len(delete_channels_sort)))\n",
    "    acc_list.append(clean_accuracy)\n",
    "\n",
    "\n",
    "    # calculate attack success rate, use bad test set\n",
    "    pred_bd = np.argmax(bd_model.predict(x_bd_test), axis=1)\n",
    "    pred_gd = np.argmax(gd_model.predict(x_bd_test), axis=1)\n",
    "    # same calculation as output_y\n",
    "    output_y_att = np.full(len(pred_bd), biggest_class_value+1)\n",
    "    equal_mask_att = pred_bd == pred_gd\n",
    "    output_y_att[equal_mask_att] = pred_bd[equal_mask_att]\n",
    "    # Attack success: accuracy on bad test set is lower than original accuracy\n",
    "    asr = np.mean(np.equal(output_y_att, y_bd_test))*100\n",
    "    asr_list.append(asr)\n",
    "    print('Attack Success Rate:', asr)"
   ]
  },
  {
   "cell_type": "code",
   "execution_count": 20,
   "metadata": {},
   "outputs": [],
   "source": [
    "# save the result(clean_accuracy and asr) of specified(i.e output X={2%,4%,10%}) gd_model on clean test set\n",
    "acc_array = np.array(acc_list)\n",
    "asr_array = np.array(asr_list)\n",
    "for TH in [2,4,10]:\n",
    "    mask = original_acc - acc_array >= TH\n",
    "    three_drops_list.append((acc_array[mask][0], asr_array[mask][0]))"
   ]
  },
  {
   "cell_type": "code",
   "execution_count": 21,
   "metadata": {},
   "outputs": [
    {
     "data": {
      "text/plain": [
       "<matplotlib.legend.Legend at 0x7ffe928889a0>"
      ]
     },
     "execution_count": 21,
     "metadata": {},
     "output_type": "execute_result"
    },
    {
     "data": {
      "image/png": "[encoded data removed]",
      "text/plain": [
       "<Figure size 432x288 with 1 Axes>"
      ]
     },
     "metadata": {
      "needs_background": "light"
     },
     "output_type": "display_data"
    }
   ],
   "source": [
    "plt.plot(channels,acc_list,label = 'acc')\n",
    "plt.plot(channels,asr_list,color = 'orange', label = 'asr')\n",
    "plt.legend()"
   ]
  },
  {
   "cell_type": "code",
   "execution_count": 22,
   "metadata": {},
   "outputs": [
    {
     "name": "stdout",
     "output_type": "stream",
     "text": [
      "When drops =  2 % the accuracy is  95.47155105222136 and the asr is  99.97661730319564\n",
      "When drops =  4 % the accuracy is  94.61418550272798 and the asr is  99.97661730319564\n",
      "When drops =  10 % the accuracy is  84.45830085736556 and the asr is  76.1730319563523\n"
     ]
    }
   ],
   "source": [
    "#output the accuricy and asr when drops = {2%,4%,10%}\n",
    "drops = [2,4,10]\n",
    "for i in range(len(drops)):\n",
    "    print('When drops = ',drops[i],'%','the accuracy is ',three_drops_list[i][0], 'and the asr is ',three_drops_list[i][1])"
   ]
  }
 ],
 "metadata": {
  "interpreter": {
   "hash": "7f9d8e023f52e43c99b53a6496ce60a960d051a43a5f0a7d13b84d6b55f27bf6"
  },
  "kernelspec": {
   "display_name": "Python 3.8.3 64-bit ('TensorFlow': conda)",
   "language": "python",
   "name": "python3"
  },
  "language_info": {
   "codemirror_mode": {
    "name": "ipython",
    "version": 3
   },
   "file_extension": ".py",
   "mimetype": "text/x-python",
   "name": "python",
   "nbconvert_exporter": "python",
   "pygments_lexer": "ipython3",
   "version": "3.8.3"
  },
  "orig_nbformat": 4
 },
 "nbformat": 4,
 "nbformat_minor": 2
}
